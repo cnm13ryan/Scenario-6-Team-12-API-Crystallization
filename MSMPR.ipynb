{
 "cells": [
  {
   "cell_type": "markdown",
   "id": "8cea9c9a",
   "metadata": {},
   "source": [
    "# Scenario 6 Team 12 MSMPR Continuous process (PBD)"
   ]
  },
  {
   "cell_type": "code",
   "execution_count": 150,
   "id": "c2e016a2",
   "metadata": {},
   "outputs": [],
   "source": [
    "import math\n",
    "import numpy as np\n",
    "import matplotlib.pyplot as plt\n",
    "import pandas as pd\n",
    "import scipy\n",
    "import sklearn"
   ]
  },
  {
   "cell_type": "markdown",
   "id": "2bd1141a",
   "metadata": {},
   "source": [
    "### To model our continuous MSMPR process, the following changes are made to the given gPROMS model:\n",
    "\n",
    "$$ \\text{Average (dominant) particle size: } L_D = 1.738 [mm] $$\n",
    "\n",
    "$$ \\text{Initial concentration: } c_{\\text{start}} = 25.6 [\\dfrac{g}{L}] $$\n",
    "\n",
    "$$ \\text{Initial growth rate: } G_0 = 0.8510 [\\dfrac{mm}{s}] $$\n",
    "\n",
    "$$\\text{Vessel volume: } V = 80 [L]$$"
   ]
  },
  {
   "cell_type": "markdown",
   "id": "92565c8c",
   "metadata": {},
   "source": [
    "### The following dataframe(s) are taken from the simulation result as to plot the Particle Size distribution (PSD):"
   ]
  },
  {
   "cell_type": "markdown",
   "id": "8b109b65",
   "metadata": {},
   "source": [
    "#### This is the dataframe for the exported excel file from the gPROMS model for concentration c"
   ]
  },
  {
   "cell_type": "code",
   "execution_count": 155,
   "id": "afff03b7",
   "metadata": {},
   "outputs": [],
   "source": [
    "# Concentration c [g/L] over time t (index i * 10) [s]\n",
    "df_conc = pd.read_excel(\"C2_C.xlsx\")\n",
    "#df_conc.head()\n",
    "#print(df_conc)"
   ]
  },
  {
   "cell_type": "markdown",
   "id": "bcc2ee31",
   "metadata": {},
   "source": [
    "#### This is the dataframe for the exported excel file from the gPROMS model for growth rate G"
   ]
  },
  {
   "cell_type": "code",
   "execution_count": 156,
   "id": "7627b3f5",
   "metadata": {},
   "outputs": [],
   "source": [
    "# Growth rate G [mm/s] over time t (index j * 10) [s]\n",
    "df_Growrate = pd.read_excel(\"C2_G.xlsx\")\n",
    "#df_Growrate.head()\n",
    "#print(df_Growrate)"
   ]
  },
  {
   "cell_type": "markdown",
   "id": "e63b8a30",
   "metadata": {},
   "source": [
    "#### This is the dataframe for the exported excel file from the gPROMS model for the number density n"
   ]
  },
  {
   "cell_type": "code",
   "execution_count": 157,
   "id": "fde09922",
   "metadata": {},
   "outputs": [],
   "source": [
    "# For the df_n, the columns represent the time (index i * 10) [s]\n",
    "# The rows represent the characteristic length (index j * 1e-2) [mm]\n",
    "\n",
    "# Number density n [1 /L / V] over time t (index j * 10) [s]\n",
    "df_n = pd.read_excel(\"C2_n.xlsx\")\n",
    "#df_n.head()\n",
    "#print(df_n)"
   ]
  },
  {
   "cell_type": "markdown",
   "id": "23c31b2b",
   "metadata": {},
   "source": [
    "### We now want to find when the system reaches equilbrium\n",
    "\n",
    "Such that two concentration values are very close to each other"
   ]
  },
  {
   "cell_type": "code",
   "execution_count": 207,
   "id": "a80f89f5",
   "metadata": {},
   "outputs": [],
   "source": [
    "# decimal_place = 1e-4\n",
    "# prev = 0\n",
    "# for i in range(0, 1001):\n",
    "#     curr = df_conc['C [g/L]'][i]\n",
    "#     if (abs(curr - prev) <= decimal_place):\n",
    "#         print(f\"Reach Equilibrium at {i*10} [s] with concentration of {curr} [g/L]\")\n",
    "#     else:\n",
    "#         prev = curr\n",
    "#         print(f\"Current concentration: {curr} [g/L] at {i*10} [s]\")\n",
    "# NOTE: \n",
    "# Equilibrium at 7490 [s] with concentration of 13.686361 [g/L] to the fourth decimal place"
   ]
  },
  {
   "cell_type": "code",
   "execution_count": 217,
   "id": "4e0186bf",
   "metadata": {},
   "outputs": [
    {
     "name": "stdout",
     "output_type": "stream",
     "text": [
      "{'Time [s]': 7490, 'Conc [g/L]': 13.686361}\n"
     ]
    }
   ],
   "source": [
    "CNT = len(df[df.columns[0]]) - 1\n",
    "\n",
    "def findEq(cnt=0, prev=0, decimal_place=1e-4, CNT=CNT, df=df_conc):\n",
    "    \"\"\"\n",
    "    Return the time at which equilbrium is reached\n",
    "    Chosen 4 decimal place to compare two concentration values [g/L]\n",
    "    Since 5 decimal place cannot compare as values get too close\n",
    "    \"\"\"\n",
    "    if cnt >= CNT:\n",
    "        print(\"Invalid out of range\")\n",
    "        return\n",
    "    \n",
    "    curr = df[df.columns[0]][cnt]\n",
    "    # If the current value and the previous value is close\n",
    "    if (abs(curr - prev) <= decimal_place):\n",
    "        return {'Time [s]': cnt * 10, 'Conc [g/L]': curr};\n",
    "    \n",
    "    # Else replace prev with current value and recall function\n",
    "    return findEq(cnt+1, curr)\n",
    "    \n",
    "##########################################\n",
    "q = findEq()\n",
    "print(q)    "
   ]
  },
  {
   "cell_type": "markdown",
   "id": "46492749",
   "metadata": {},
   "source": [
    "### We now want to plot the particle size distribution (particle size vs characteristic length)"
   ]
  },
  {
   "cell_type": "markdown",
   "id": "951bcdc2",
   "metadata": {},
   "source": [
    "#### At 10% equilbrium"
   ]
  },
  {
   "cell_type": "code",
   "execution_count": 218,
   "id": "2576ff24",
   "metadata": {},
   "outputs": [],
   "source": [
    "# 10% Equilibrium time [s]\n",
    "# 749 round up to 750\n",
    "Eq10_time = 750; # [s]\n",
    "\n",
    "# list of number density [# crystals / L / V]\n",
    "n10 = [df_n[Eq10_time][i] for i in range(1000)]\n"
   ]
  },
  {
   "cell_type": "markdown",
   "id": "a5fbffa8",
   "metadata": {},
   "source": [
    "#### At 20% equilbrium"
   ]
  },
  {
   "cell_type": "code",
   "execution_count": 219,
   "id": "8629404a",
   "metadata": {},
   "outputs": [],
   "source": [
    "# 20% Equilibrium time [s]\n",
    "# 1498 round up to 1430\n",
    "Eq20_time = 1430; # [s]\n",
    "\n",
    "# list of number density [# crystals / L / V]\n",
    "n20 = [df_n[Eq20_time][i] for i in range(1000)]"
   ]
  },
  {
   "cell_type": "markdown",
   "id": "a04783a1",
   "metadata": {},
   "source": [
    "#### At 30% equilbrium"
   ]
  },
  {
   "cell_type": "code",
   "execution_count": 220,
   "id": "ff7f1089",
   "metadata": {},
   "outputs": [],
   "source": [
    "# 30% Equilibrium time [s]\n",
    "# 2247 round up to 2250\n",
    "Eq30_time = 2250; # [s]\n",
    "\n",
    "# list of number density [# crystals / L / V]\n",
    "n30 = [df_n[Eq30_time][i] for i in range(1000)]"
   ]
  },
  {
   "cell_type": "markdown",
   "id": "88d53402",
   "metadata": {},
   "source": [
    "#### At 100% equilbrium"
   ]
  },
  {
   "cell_type": "code",
   "execution_count": 221,
   "id": "47bd353b",
   "metadata": {},
   "outputs": [],
   "source": [
    "# Equilibrium time [s]\n",
    "Eq_time = 7490; # [s]\n",
    "\n",
    "# list of number density [# crystals / L / V]\n",
    "n = [df_n[Eq_time][i] for i in range(1000)]\n",
    "\n",
    "# list of characterisitic length of nuclei [mm]\n",
    "l = [i/100 for i in range(1000)]"
   ]
  },
  {
   "cell_type": "markdown",
   "id": "faa2deb9",
   "metadata": {},
   "source": [
    "## Plot the particle size distribution (particle size vs characteristic length) of the MSMPR process"
   ]
  },
  {
   "cell_type": "code",
   "execution_count": 223,
   "id": "3d202ce1",
   "metadata": {},
   "outputs": [
    {
     "data": {
      "image/png": "[encoded data removed]",
      "text/plain": [
       "<Figure size 720x504 with 1 Axes>"
      ]
     },
     "metadata": {
      "needs_background": "light"
     },
     "output_type": "display_data"
    },
    {
     "name": "stdout",
     "output_type": "stream",
     "text": [
      "\n"
     ]
    }
   ],
   "source": [
    "# We can now plot the particle size distribution (particle size vs characteristic length)\n",
    "(fig, ax1) = plt.subplots(1, figsize=(10, 7))\n",
    "size = 0.5;\n",
    "cdict = {1: 'red', 2: 'blue', 3: 'green', 4: 'orange'}\n",
    "\n",
    "ax1.scatter(l, n10, s=size,c=cdict[1],label='10% Eq_time' ,vmin=0,vmax=100)\n",
    "ax1.scatter(l, n20, s=size,c=cdict[2],label='20% Eq_time' ,vmin=0,vmax=100)\n",
    "ax1.scatter(l, n30, s=size,c=cdict[3],label='30% Eq_time' ,vmin=0,vmax=100)\n",
    "ax1.scatter(l, n  , s=size,c=cdict[4],label='100% Eq_time',vmin=0,vmax=100)\n",
    "\n",
    "ax1.set_xlabel(r'Characterisitic nuclei length [mm]',fontsize=16)\n",
    "ax1.set_ylabel(r'n $[\\dfrac{1}{L \\cdot V}]$',fontsize=16)\n",
    "ax1.tick_params(axis='x', labelsize=10)\n",
    "ax1.tick_params(axis='y', labelsize=10)\n",
    "ax1.legend(loc='best', markerscale=10, prop={'size':15},bbox_to_anchor=(1,0.5),fancybox=True, ncol=1)\n",
    "ax1.grid(True)\n",
    "\n",
    "plt.title('Distribution of n over characteristic nuclei length', fontsize=15)\n",
    "\n",
    "fig.tight_layout()  # otherwise the right y-label is slightly clipped\n",
    "plt.show()\n",
    "print('')"
   ]
  },
  {
   "cell_type": "code",
   "execution_count": null,
   "id": "b0dd00a8",
   "metadata": {},
   "outputs": [],
   "source": []
  },
  {
   "cell_type": "code",
   "execution_count": 5,
   "id": "9e08fbb8",
   "metadata": {},
   "outputs": [],
   "source": []
  },
  {
   "cell_type": "code",
   "execution_count": null,
   "id": "683a6931",
   "metadata": {},
   "outputs": [],
   "source": [
    "\n"
   ]
  },
  {
   "cell_type": "code",
   "execution_count": 8,
   "id": "668bdea7",
   "metadata": {},
   "outputs": [],
   "source": []
  },
  {
   "cell_type": "code",
   "execution_count": null,
   "id": "b9b00d60",
   "metadata": {},
   "outputs": [],
   "source": []
  },
  {
   "cell_type": "code",
   "execution_count": null,
   "id": "e094cb1f",
   "metadata": {},
   "outputs": [],
   "source": []
  },
  {
   "cell_type": "code",
   "execution_count": null,
   "id": "5c9e3678",
   "metadata": {},
   "outputs": [],
   "source": []
  },
  {
   "cell_type": "code",
   "execution_count": 16,
   "id": "ecaf300b",
   "metadata": {},
   "outputs": [],
   "source": []
  },
  {
   "cell_type": "code",
   "execution_count": null,
   "id": "23a8e7de",
   "metadata": {},
   "outputs": [],
   "source": []
  }
 ],
 "metadata": {
  "kernelspec": {
   "display_name": "Python 3 (ipykernel)",
   "language": "python",
   "name": "python3"
  },
  "language_info": {
   "codemirror_mode": {
    "name": "ipython",
    "version": 3
   },
   "file_extension": ".py",
   "mimetype": "text/x-python",
   "name": "python",
   "nbconvert_exporter": "python",
   "pygments_lexer": "ipython3",
   "version": "3.9.12"
  }
 },
 "nbformat": 4,
 "nbformat_minor": 5
}
