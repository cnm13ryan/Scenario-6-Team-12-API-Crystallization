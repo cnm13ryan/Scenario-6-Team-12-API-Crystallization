{
 "cells": [
  {
   "cell_type": "code",
   "execution_count": 1,
   "id": "c2e016a2",
   "metadata": {},
   "outputs": [],
   "source": [
    "import math\n",
    "import numpy as np\n",
    "import matplotlib.pyplot as plt\n",
    "import pandas as pd\n",
    "import scipy\n",
    "import sklearn"
   ]
  },
  {
   "cell_type": "code",
   "execution_count": 2,
   "id": "fde09922",
   "metadata": {},
   "outputs": [],
   "source": [
    "df = pd.read_excel(\"conint.xlsx\")"
   ]
  },
  {
   "cell_type": "code",
   "execution_count": 3,
   "id": "484c73eb",
   "metadata": {},
   "outputs": [
    {
     "data": {
      "text/html": [
       "<div>\n",
       "<style scoped>\n",
       "    .dataframe tbody tr th:only-of-type {\n",
       "        vertical-align: middle;\n",
       "    }\n",
       "\n",
       "    .dataframe tbody tr th {\n",
       "        vertical-align: top;\n",
       "    }\n",
       "\n",
       "    .dataframe thead th {\n",
       "        text-align: right;\n",
       "    }\n",
       "</style>\n",
       "<table border=\"1\" class=\"dataframe\">\n",
       "  <thead>\n",
       "    <tr style=\"text-align: right;\">\n",
       "      <th></th>\n",
       "      <th>n at 1590 [s]</th>\n",
       "      <th>n at 1600 [s]</th>\n",
       "      <th>n at 1610[s]</th>\n",
       "    </tr>\n",
       "  </thead>\n",
       "  <tbody>\n",
       "    <tr>\n",
       "      <th>0</th>\n",
       "      <td>0.080058</td>\n",
       "      <td>0.079318</td>\n",
       "      <td>0.078591</td>\n",
       "    </tr>\n",
       "    <tr>\n",
       "      <th>1</th>\n",
       "      <td>0.080068</td>\n",
       "      <td>0.079329</td>\n",
       "      <td>0.078601</td>\n",
       "    </tr>\n",
       "    <tr>\n",
       "      <th>2</th>\n",
       "      <td>0.080079</td>\n",
       "      <td>0.079339</td>\n",
       "      <td>0.078612</td>\n",
       "    </tr>\n",
       "    <tr>\n",
       "      <th>3</th>\n",
       "      <td>0.080090</td>\n",
       "      <td>0.079350</td>\n",
       "      <td>0.078622</td>\n",
       "    </tr>\n",
       "    <tr>\n",
       "      <th>4</th>\n",
       "      <td>0.080100</td>\n",
       "      <td>0.079360</td>\n",
       "      <td>0.078633</td>\n",
       "    </tr>\n",
       "  </tbody>\n",
       "</table>\n",
       "</div>"
      ],
      "text/plain": [
       "   n at 1590 [s]  n at 1600 [s]  n at 1610[s]\n",
       "0       0.080058       0.079318      0.078591\n",
       "1       0.080068       0.079329      0.078601\n",
       "2       0.080079       0.079339      0.078612\n",
       "3       0.080090       0.079350      0.078622\n",
       "4       0.080100       0.079360      0.078633"
      ]
     },
     "execution_count": 3,
     "metadata": {},
     "output_type": "execute_result"
    }
   ],
   "source": [
    "# Length index list\n",
    "id = np.arange(0, 10, 10/1001).tolist()\n",
    "df.head()"
   ]
  },
  {
   "cell_type": "code",
   "execution_count": 4,
   "id": "eece851e",
   "metadata": {},
   "outputs": [],
   "source": [
    "lst1 = df['n at 1590 [s]']\n",
    "lst2 = df['n at 1600 [s]']\n",
    "lst3 = df['n at 1610[s]']\n"
   ]
  },
  {
   "cell_type": "code",
   "execution_count": 5,
   "id": "9e08fbb8",
   "metadata": {},
   "outputs": [],
   "source": [
    "m1 = [lst1.max(),\n",
    "      id[int(df[['n at 1590 [s]']].idxmax())]]\n",
    "\n",
    "m2 = [lst2.max(),\n",
    "      id[int(df[['n at 1600 [s]']].idxmax())]]\n",
    "\n",
    "m3 = [lst3.max(),\n",
    "      id[int(df[['n at 1610[s]']].idxmax())]]"
   ]
  },
  {
   "cell_type": "code",
   "execution_count": 6,
   "id": "683a6931",
   "metadata": {},
   "outputs": [
    {
     "name": "stdout",
     "output_type": "stream",
     "text": [
      "The maximum n at 1590 [s] is 0.092175186 [#crystals/L/V] with length 9.99000999000999 [mm]\n",
      "The maximum n at 1600 [s] is 0.09122663 [#crystals/L/V] with length 9.99000999000999 [mm]\n",
      "The maximum n at 1610 [s] is 0.0902967 [#crystals/L/V] with length 9.99000999000999 [mm]\n"
     ]
    }
   ],
   "source": [
    "print(f\"The maximum n at 1590 [s] is {m1[0]} \\\n",
    "[#crystals/L/V] with length {m1[1]} [mm]\")\n",
    "\n",
    "print(f\"The maximum n at 1600 [s] is {m2[0]} \\\n",
    "[#crystals/L/V] with length {m2[1]} [mm]\")\n",
    "\n",
    "print(f\"The maximum n at 1610 [s] is {m3[0]} \\\n",
    "[#crystals/L/V] with length {m3[1]} [mm]\")\n"
   ]
  },
  {
   "cell_type": "code",
   "execution_count": 8,
   "id": "668bdea7",
   "metadata": {},
   "outputs": [],
   "source": [
    "Crystal_size = [m1[0], m2[0], m3[0]]\n",
    "Length = [m1[1], m2[1], m3[1]]\n",
    "growrate = [0.06975067, 0.06968592, 0.06962188] # [mm/s]"
   ]
  },
  {
   "cell_type": "code",
   "execution_count": 18,
   "id": "b9b00d60",
   "metadata": {},
   "outputs": [
    {
     "data": {
      "image/png": "[encoded data removed]",
      "text/plain": [
       "<Figure size 720x504 with 1 Axes>"
      ]
     },
     "metadata": {
      "needs_background": "light"
     },
     "output_type": "display_data"
    },
    {
     "name": "stdout",
     "output_type": "stream",
     "text": [
      "\n"
     ]
    }
   ],
   "source": [
    "(fig, ax1) = plt.subplots(1, figsize=(10, 7))\n",
    "\n",
    "ax1.scatter(Length, Crystal_size) \n",
    "#ax1.scatter(Length, growrate)\n",
    "ax1.set_xlabel(r'Characteristic nuclei length [mm]',fontsize=16)\n",
    "#ax1.set_ylabel(r'Growth rate [mm/s]',fontsize=16)\n",
    "ax1.set_ylabel(r'n $[\\dfrac{1}{L \\cdot V}]$',fontsize=16)\n",
    "ax1.tick_params(axis='y', labelsize=14)\n",
    "ax1.tick_params(axis='x', labelsize=14)\n",
    "#ax1.legend(loc='upper right',fontsize=12)\n",
    "ax1.grid(True)\n",
    "\n",
    "plt.title('Distribution of n over characteristic nuclei length', fontsize=15)\n",
    "#plt.title('Distribution of grow rate over characteristic nuclei length', fontsize=15)\n",
    "\n",
    "fig.tight_layout()  # otherwise the right y-label is slightly clipped\n",
    "plt.show()\n",
    "print('')"
   ]
  },
  {
   "cell_type": "code",
   "execution_count": 14,
   "id": "e094cb1f",
   "metadata": {},
   "outputs": [
    {
     "name": "stdout",
     "output_type": "stream",
     "text": [
      "alpha: -895.9862122596248, beta: 89.6951954314708\n",
      "\n",
      "The equation of the growth rate versus characteristic length: G = -895.9862122596248 + 89.6951954314708 * L\n"
     ]
    }
   ],
   "source": []
  },
  {
   "cell_type": "code",
   "execution_count": 15,
   "id": "5c9e3678",
   "metadata": {},
   "outputs": [
    {
     "data": {
      "image/png": "[encoded data removed]",
      "text/plain": [
       "<Figure size 720x504 with 1 Axes>"
      ]
     },
     "metadata": {
      "needs_background": "light"
     },
     "output_type": "display_data"
    }
   ],
   "source": []
  },
  {
   "cell_type": "code",
   "execution_count": 16,
   "id": "ecaf300b",
   "metadata": {},
   "outputs": [],
   "source": []
  },
  {
   "cell_type": "code",
   "execution_count": null,
   "id": "23a8e7de",
   "metadata": {},
   "outputs": [],
   "source": []
  }
 ],
 "metadata": {
  "kernelspec": {
   "display_name": "Python 3 (ipykernel)",
   "language": "python",
   "name": "python3"
  },
  "language_info": {
   "codemirror_mode": {
    "name": "ipython",
    "version": 3
   },
   "file_extension": ".py",
   "mimetype": "text/x-python",
   "name": "python",
   "nbconvert_exporter": "python",
   "pygments_lexer": "ipython3",
   "version": "3.9.12"
  }
 },
 "nbformat": 4,
 "nbformat_minor": 5
}
