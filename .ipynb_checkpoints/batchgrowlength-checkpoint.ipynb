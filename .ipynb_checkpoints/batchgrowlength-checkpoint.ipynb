{
 "cells": [
  {
   "cell_type": "markdown",
   "id": "c09160f6",
   "metadata": {},
   "source": [
    "# Scenario 6 Team 12 Batch process "
   ]
  },
  {
   "cell_type": "code",
   "execution_count": 38,
   "id": "f11b8bfc",
   "metadata": {},
   "outputs": [],
   "source": [
    "import math\n",
    "import numpy as np\n",
    "import matplotlib.pyplot as plt\n",
    "import pandas as pd\n",
    "import scipy\n",
    "import sklearn"
   ]
  },
  {
   "cell_type": "markdown",
   "id": "797d80af",
   "metadata": {},
   "source": [
    "#### To access data (excel files) and execute code for verification\n",
    "#### Please clone github directory: https://github.com/cnm13ryan/Scenario-6-Team-12-API-Crystallization"
   ]
  },
  {
   "cell_type": "markdown",
   "id": "f8c49a86",
   "metadata": {},
   "source": [
    "### Our aim in this process is to determine the right growth rate for our fixed optimal dominant particle size of 1.738 [mm]"
   ]
  },
  {
   "cell_type": "markdown",
   "id": "6451bd7b",
   "metadata": {},
   "source": [
    "### The following dataframe(s) are taken from multiple simulation result as to find the optimal growth rate for 1.738 [mm]"
   ]
  },
  {
   "cell_type": "markdown",
   "id": "955ae292",
   "metadata": {},
   "source": [
    "#### Used growth rate: 0.90, 0.93, 1.05, 1.10, 1.40, 1.50, 1.60, 1.70 [mm/s]"
   ]
  },
  {
   "cell_type": "code",
   "execution_count": 39,
   "id": "0eb89119",
   "metadata": {},
   "outputs": [],
   "source": [
    "df = pd.read_excel(\"batchGrowlength.xlsx\")"
   ]
  },
  {
   "cell_type": "code",
   "execution_count": 40,
   "id": "84ed409e",
   "metadata": {},
   "outputs": [
    {
     "data": {
      "text/html": [
       "<div>\n",
       "<style scoped>\n",
       "    .dataframe tbody tr th:only-of-type {\n",
       "        vertical-align: middle;\n",
       "    }\n",
       "\n",
       "    .dataframe tbody tr th {\n",
       "        vertical-align: top;\n",
       "    }\n",
       "\n",
       "    .dataframe thead th {\n",
       "        text-align: right;\n",
       "    }\n",
       "</style>\n",
       "<table border=\"1\" class=\"dataframe\">\n",
       "  <thead>\n",
       "    <tr style=\"text-align: right;\">\n",
       "      <th></th>\n",
       "      <th>n of GROWTH RATE: 1.60 [mm/s]</th>\n",
       "      <th>n of GROWTH RATE: 1.50 [mm/s]</th>\n",
       "      <th>n of GROWTH RATE: 1.70 [mm/s]</th>\n",
       "      <th>n of GROWTH RATE: 1.40 [mm/s]</th>\n",
       "      <th>n of GROWTH RATE: 1.10 [mm/s]</th>\n",
       "      <th>n of GROWTH RATE: 1.05 [mm/s]</th>\n",
       "      <th>n of GROWTH RATE: 0.90 [mm/s]</th>\n",
       "      <th>n of GROWTH RATE: 0.93 [mm/s]</th>\n",
       "    </tr>\n",
       "  </thead>\n",
       "  <tbody>\n",
       "    <tr>\n",
       "      <th>0</th>\n",
       "      <td>0.000000e+00</td>\n",
       "      <td>7.230000e-43</td>\n",
       "      <td>0.000000e+00</td>\n",
       "      <td>3.634039e-29</td>\n",
       "      <td>2.111183e-27</td>\n",
       "      <td>0.000000e+00</td>\n",
       "      <td>1.272408e-22</td>\n",
       "      <td>1.682087e-30</td>\n",
       "    </tr>\n",
       "    <tr>\n",
       "      <th>1</th>\n",
       "      <td>6.967602e-12</td>\n",
       "      <td>4.891995e-10</td>\n",
       "      <td>3.314329e-11</td>\n",
       "      <td>3.185389e-11</td>\n",
       "      <td>8.939693e-11</td>\n",
       "      <td>1.110489e-11</td>\n",
       "      <td>4.988402e-08</td>\n",
       "      <td>1.503500e-10</td>\n",
       "    </tr>\n",
       "    <tr>\n",
       "      <th>2</th>\n",
       "      <td>4.730275e-09</td>\n",
       "      <td>5.882065e-10</td>\n",
       "      <td>2.490077e-11</td>\n",
       "      <td>6.686716e-11</td>\n",
       "      <td>9.867648e-10</td>\n",
       "      <td>8.873270e-11</td>\n",
       "      <td>7.972134e-08</td>\n",
       "      <td>1.536671e-09</td>\n",
       "    </tr>\n",
       "    <tr>\n",
       "      <th>3</th>\n",
       "      <td>1.658384e-09</td>\n",
       "      <td>1.219413e-09</td>\n",
       "      <td>1.960056e-10</td>\n",
       "      <td>4.298395e-10</td>\n",
       "      <td>1.007827e-09</td>\n",
       "      <td>3.506910e-09</td>\n",
       "      <td>2.433228e-07</td>\n",
       "      <td>7.890423e-09</td>\n",
       "    </tr>\n",
       "    <tr>\n",
       "      <th>4</th>\n",
       "      <td>1.568243e-08</td>\n",
       "      <td>1.236553e-08</td>\n",
       "      <td>4.357064e-09</td>\n",
       "      <td>8.811734e-09</td>\n",
       "      <td>1.520923e-08</td>\n",
       "      <td>1.525873e-08</td>\n",
       "      <td>2.099214e-07</td>\n",
       "      <td>4.821023e-08</td>\n",
       "    </tr>\n",
       "  </tbody>\n",
       "</table>\n",
       "</div>"
      ],
      "text/plain": [
       "   n of GROWTH RATE: 1.60 [mm/s]  n of GROWTH RATE: 1.50 [mm/s]  \\\n",
       "0                   0.000000e+00                   7.230000e-43   \n",
       "1                   6.967602e-12                   4.891995e-10   \n",
       "2                   4.730275e-09                   5.882065e-10   \n",
       "3                   1.658384e-09                   1.219413e-09   \n",
       "4                   1.568243e-08                   1.236553e-08   \n",
       "\n",
       "   n of GROWTH RATE: 1.70 [mm/s]  n of GROWTH RATE: 1.40 [mm/s]  \\\n",
       "0                   0.000000e+00                   3.634039e-29   \n",
       "1                   3.314329e-11                   3.185389e-11   \n",
       "2                   2.490077e-11                   6.686716e-11   \n",
       "3                   1.960056e-10                   4.298395e-10   \n",
       "4                   4.357064e-09                   8.811734e-09   \n",
       "\n",
       "   n of GROWTH RATE: 1.10 [mm/s]  n of GROWTH RATE: 1.05 [mm/s]  \\\n",
       "0                   2.111183e-27                   0.000000e+00   \n",
       "1                   8.939693e-11                   1.110489e-11   \n",
       "2                   9.867648e-10                   8.873270e-11   \n",
       "3                   1.007827e-09                   3.506910e-09   \n",
       "4                   1.520923e-08                   1.525873e-08   \n",
       "\n",
       "   n of GROWTH RATE: 0.90 [mm/s]  n of GROWTH RATE: 0.93 [mm/s]  \n",
       "0                   1.272408e-22                   1.682087e-30  \n",
       "1                   4.988402e-08                   1.503500e-10  \n",
       "2                   7.972134e-08                   1.536671e-09  \n",
       "3                   2.433228e-07                   7.890423e-09  \n",
       "4                   2.099214e-07                   4.821023e-08  "
      ]
     },
     "execution_count": 40,
     "metadata": {},
     "output_type": "execute_result"
    }
   ],
   "source": [
    "# Showing first five elements of the dataframe\n",
    "df.head()"
   ]
  },
  {
   "cell_type": "markdown",
   "id": "36e2114d",
   "metadata": {},
   "source": [
    "#### Recreating a characterisitic nuclei length list"
   ]
  },
  {
   "cell_type": "code",
   "execution_count": 41,
   "id": "3dcd9bc7",
   "metadata": {},
   "outputs": [],
   "source": [
    "# Recreating a characterisitic nuclei length list\n",
    "id = np.arange(0, 10, 10/1001).tolist()"
   ]
  },
  {
   "cell_type": "markdown",
   "id": "ab27a41c",
   "metadata": {},
   "source": [
    "#### Rename the data frames for easy handling for later calculations"
   ]
  },
  {
   "cell_type": "code",
   "execution_count": 42,
   "id": "0ffaa5c5",
   "metadata": {},
   "outputs": [],
   "source": [
    "# Rename the data frames for easy handling for later calculations\n",
    "lst1 = df['n of GROWTH RATE: 0.90 [mm/s]']\n",
    "lst2 = df['n of GROWTH RATE: 0.93 [mm/s]']\n",
    "lst3 = df['n of GROWTH RATE: 1.05 [mm/s]']\n",
    "lst4 = df['n of GROWTH RATE: 1.10 [mm/s]']\n",
    "lst5 = df['n of GROWTH RATE: 1.40 [mm/s]']\n",
    "lst6 = df['n of GROWTH RATE: 1.50 [mm/s]']\n",
    "lst7 = df['n of GROWTH RATE: 1.60 [mm/s]']\n",
    "lst8 = df['n of GROWTH RATE: 1.70 [mm/s]']\n"
   ]
  },
  {
   "cell_type": "markdown",
   "id": "fbdfc0aa",
   "metadata": {},
   "source": [
    "#### Find the maximum number density and the corresponding characterisitic length"
   ]
  },
  {
   "cell_type": "code",
   "execution_count": 43,
   "id": "e6e6cffa",
   "metadata": {},
   "outputs": [
    {
     "name": "stdout",
     "output_type": "stream",
     "text": [
      "The maximum number density (n) for grow rate G = 0.90 [mm/s] is 4.3499937 [#crystals/L/V] with length 1.7582417582417582 [mm]\n"
     ]
    }
   ],
   "source": [
    "# Find the maximum number density and the corresponding characterisitic length\n",
    "# m1 = [maximum number density n, corresponding characterisitc length L_d [mm]]\n",
    "\n",
    "m1 = [lst1.max(),\n",
    "      id[int(df[['n of GROWTH RATE: 0.90 [mm/s]']].idxmax())]]\n",
    "\n",
    "print(f\"The maximum number density (n) for grow rate G = 0.90 [mm/s] is {m1[0]} \\\n",
    "[#crystals/L/V] with length {m1[1]} [mm]\")\n"
   ]
  },
  {
   "cell_type": "code",
   "execution_count": 44,
   "id": "090fcb3d",
   "metadata": {},
   "outputs": [
    {
     "name": "stdout",
     "output_type": "stream",
     "text": [
      "The maximum number density (n) for grow rate G = 0.93 [mm/s] is 4.209736 [#crystals/L/V] with length 1.7682317682317683 [mm]\n"
     ]
    }
   ],
   "source": [
    "m2 = [lst2.max(),\n",
    "      id[int(df[['n of GROWTH RATE: 0.93 [mm/s]']].idxmax())]]\n",
    "\n",
    "print(f\"The maximum number density (n) for grow rate G = 0.93 [mm/s] is {m2[0]} \\\n",
    "[#crystals/L/V] with length {m2[1]} [mm]\")"
   ]
  },
  {
   "cell_type": "code",
   "execution_count": 45,
   "id": "4b11e836",
   "metadata": {},
   "outputs": [
    {
     "name": "stdout",
     "output_type": "stream",
     "text": [
      "The maximum number density (n) for grow rate G = 1.05 [mm/s] is 3.7288046 [#crystals/L/V] with length 1.8181818181818181 [mm]\n"
     ]
    }
   ],
   "source": [
    "m3 = [lst3.max(),\n",
    "      id[int(df[['n of GROWTH RATE: 1.05 [mm/s]']].idxmax())]]\n",
    "\n",
    "print(f\"The maximum number density (n) for grow rate G = 1.05 [mm/s] is {m3[0]} \\\n",
    "[#crystals/L/V] with length {m3[1]} [mm]\")"
   ]
  },
  {
   "cell_type": "code",
   "execution_count": 46,
   "id": "75e12669",
   "metadata": {},
   "outputs": [
    {
     "name": "stdout",
     "output_type": "stream",
     "text": [
      "The maximum number density (n) for grow rate G = 1.10 [mm/s] is 3.5593746 [#crystals/L/V] with length 1.838161838161838 [mm]\n"
     ]
    }
   ],
   "source": [
    "m4 = [lst4.max(),\n",
    "      id[int(df[['n of GROWTH RATE: 1.10 [mm/s]']].idxmax())]]\n",
    "\n",
    "print(f\"The maximum number density (n) for grow rate G = 1.10 [mm/s] is {m4[0]} \\\n",
    "[#crystals/L/V] with length {m4[1]} [mm]\")"
   ]
  },
  {
   "cell_type": "code",
   "execution_count": 47,
   "id": "bd060e16",
   "metadata": {},
   "outputs": [
    {
     "name": "stdout",
     "output_type": "stream",
     "text": [
      "The maximum number density (n) for grow rate G = 1.40 [mm/s] is 2.79691 [#crystals/L/V] with length 1.9580419580419581 [mm]\n"
     ]
    }
   ],
   "source": [
    "m5 = [lst5.max(),\n",
    "      id[int(df[['n of GROWTH RATE: 1.40 [mm/s]']].idxmax())]]\n",
    "\n",
    "print(f\"The maximum number density (n) for grow rate G = 1.40 [mm/s] is {m5[0]} \\\n",
    "[#crystals/L/V] with length {m5[1]} [mm]\")"
   ]
  },
  {
   "cell_type": "code",
   "execution_count": 48,
   "id": "c5ecf728",
   "metadata": {},
   "outputs": [
    {
     "name": "stdout",
     "output_type": "stream",
     "text": [
      "The maximum number density (n) for grow rate G = 1.50 [mm/s] is 2.6105082 [#crystals/L/V] with length 1.998001998001998 [mm]\n"
     ]
    }
   ],
   "source": [
    "m6 = [lst6.max(),\n",
    "      id[int(df[['n of GROWTH RATE: 1.50 [mm/s]']].idxmax())]]\n",
    "\n",
    "print(f\"The maximum number density (n) for grow rate G = 1.50 [mm/s] is {m6[0]} \\\n",
    "[#crystals/L/V] with length {m6[1]} [mm]\")"
   ]
  },
  {
   "cell_type": "code",
   "execution_count": 49,
   "id": "b9bd0b23",
   "metadata": {},
   "outputs": [
    {
     "name": "stdout",
     "output_type": "stream",
     "text": [
      "The maximum number density (n) for grow rate G = 1.60 [mm/s] is 2.447395 [#crystals/L/V] with length 2.037962037962038 [mm]\n"
     ]
    }
   ],
   "source": [
    "m7 = [lst7.max(),\n",
    "      id[int(df[['n of GROWTH RATE: 1.60 [mm/s]']].idxmax())]]\n",
    "\n",
    "print(f\"The maximum number density (n) for grow rate G = 1.60 [mm/s] is {m7[0]} \\\n",
    "[#crystals/L/V] with length {m7[1]} [mm]\")"
   ]
  },
  {
   "cell_type": "code",
   "execution_count": 50,
   "id": "ca802e90",
   "metadata": {},
   "outputs": [
    {
     "name": "stdout",
     "output_type": "stream",
     "text": [
      "The maximum number density (n) for grow rate G = 1.70 [mm/s] is 2.3034666 [#crystals/L/V] with length 2.0779220779220777 [mm]\n"
     ]
    }
   ],
   "source": [
    "m8 = [lst8.max(),\n",
    "      id[int(df[['n of GROWTH RATE: 1.70 [mm/s]']].idxmax())]]\n",
    "\n",
    "print(f\"The maximum number density (n) for grow rate G = 1.70 [mm/s] is {m8[0]} \\\n",
    "[#crystals/L/V] with length {m8[1]} [mm]\")"
   ]
  },
  {
   "cell_type": "markdown",
   "id": "8219e30f",
   "metadata": {},
   "source": [
    "## Create the list required for plotting graphs"
   ]
  },
  {
   "cell_type": "code",
   "execution_count": 63,
   "id": "aa64e456",
   "metadata": {},
   "outputs": [],
   "source": [
    "number_density = [m1[0], m2[0], m3[0], m4[0], m5[0], m6[0], m7[0], m8[0]]; # (n) [1 / L / V]\n",
    "Length = [m1[1], m2[1], m3[1], m4[1], m5[1], m6[1], m7[1], m8[1]]; # [mm]\n",
    "growrate = [0.90, 0.93, 1.05, 1.10, 1.40, 1.50, 1.60, 1.70]; # [mm/s]"
   ]
  },
  {
   "cell_type": "code",
   "execution_count": 56,
   "id": "ea893622",
   "metadata": {},
   "outputs": [
    {
     "data": {
      "image/png": "[encoded data removed]",
      "text/plain": [
       "<Figure size 720x504 with 1 Axes>"
      ]
     },
     "metadata": {
      "needs_background": "light"
     },
     "output_type": "display_data"
    },
    {
     "name": "stdout",
     "output_type": "stream",
     "text": [
      "\n"
     ]
    }
   ],
   "source": [
    "(fig, ax1) = plt.subplots(1, figsize=(10, 7))\n",
    "\n",
    "#ax1.scatter(Length, Crystal_size) \n",
    "ax1.scatter(Length, growrate)\n",
    "ax1.set_xlabel(r'Characteristic nuclei length [mm]',fontsize=16)\n",
    "ax1.set_ylabel(r'Growth rate [mm/s]',fontsize=16)\n",
    "#ax1.set_ylabel(r'n $[\\dfrac{1}{L \\cdot V}]$',fontsize=16)\n",
    "ax1.tick_params(axis='y', labelsize=14)\n",
    "ax1.tick_params(axis='x', labelsize=14)\n",
    "#ax1.legend(loc='upper right',fontsize=12)\n",
    "ax1.grid(True)\n",
    "\n",
    "#plt.title('Distribution of n over characteristic nuclei length', fontsize=15)\n",
    "plt.title('Distribution of grow rate over characteristic nuclei length', fontsize=15)\n",
    "\n",
    "fig.tight_layout()  # otherwise the right y-label is slightly clipped\n",
    "plt.show()\n",
    "print('')"
   ]
  },
  {
   "cell_type": "markdown",
   "id": "131a7b82",
   "metadata": {},
   "source": [
    "## Perform linear regression on the scatter points (Create growth rate model)"
   ]
  },
  {
   "cell_type": "code",
   "execution_count": 57,
   "id": "00fc02b6",
   "metadata": {
    "scrolled": true
   },
   "outputs": [
    {
     "name": "stdout",
     "output_type": "stream",
     "text": [
      "alpha: -3.4874974771635294, beta: 2.49627110655701\n",
      "\n",
      "The equation of the growth rate versus characteristic length: G = -3.4874974771635294 + 2.49627110655701 * L\n"
     ]
    }
   ],
   "source": [
    "# Growth rate model 1\n",
    "fit_conv1 = scipy.optimize.curve_fit(lambda t, a, b: a+b*t, Length, growrate)\n",
    "#print(fit_conv)\n",
    "m_conv1 = np.array([(fit_conv1[0][0] + fit_conv1[0][1] * i) for i in Length])\n",
    "alpha = fit_conv1[0][0]\n",
    "beta = fit_conv1[0][1]\n",
    "print(f\"alpha: {alpha }, beta: {beta}\\n\");\n",
    "print(f\"The equation of the growth rate versus characteristic length: G = {alpha} + {beta} * L\")"
   ]
  },
  {
   "cell_type": "code",
   "execution_count": 68,
   "id": "438ed9d0",
   "metadata": {},
   "outputs": [
    {
     "data": {
      "image/png": "[encoded data removed]",
      "text/plain": [
       "<Figure size 720x504 with 1 Axes>"
      ]
     },
     "metadata": {
      "needs_background": "light"
     },
     "output_type": "display_data"
    }
   ],
   "source": [
    "size = 30\n",
    "cdict = {1: 'blue', 2: 'orange'}\n",
    "\n",
    "fig, ax = plt.subplots(1, figsize=(10, 7))\n",
    "\n",
    "sc1 = ax.scatter(Length,growrate,s=size,c=cdict[1],vmin=0,vmax=100)\n",
    "#sc2 = ax.scatter(Length,growrate,s=size,c=cdict[2], label='model 2', vmin=0,vmax=100)\n",
    "     \n",
    "ax.set_xlabel(r'Characteristic nuclei length [mm]',fontsize=16)\n",
    "ax.set_ylabel(r'Growth rate [mm/s]',fontsize=16)\n",
    "ax.set_title('Distribution of grow rate over characteristic nuclei length', fontsize=15)\n",
    "\n",
    "#ax.legend(loc='center right', bbox_to_anchor=(1, 0.5), fancybox=True, ncol=1)\n",
    "\n",
    "plt.plot(Length, m_conv1, 'r')\n",
    "#plt.plot(Length, m_conv2, 'g')\n",
    "ax.grid(True)\n",
    "fig.tight_layout()\n",
    "plt.show()"
   ]
  },
  {
   "cell_type": "markdown",
   "id": "dc6a3934",
   "metadata": {},
   "source": [
    "## We now get the model, we can now extrapolate and find the optimal growth rate for $L_D = 1.738 [mm]$  "
   ]
  },
  {
   "cell_type": "code",
   "execution_count": null,
   "id": "650d3f44",
   "metadata": {},
   "outputs": [],
   "source": [
    "# The Growth rate function with respect to characterisitic nuclei length\n",
    "def calGrowthrate(L, alpha=-3.487497477645276, beta=2.496271106809651):\n",
    "    \"\"\"Return the Growth rate wrt the dominant particle size\"\"\"\n",
    "    G = alpha + beta * L;\n",
    "    return G"
   ]
  },
  {
   "cell_type": "code",
   "execution_count": 73,
   "id": "c64598e6",
   "metadata": {},
   "outputs": [
    {
     "name": "stdout",
     "output_type": "stream",
     "text": [
      "The growth rate given L_D=1.738[mm]: 0.8510217059898975 [mm/s]\n"
     ]
    }
   ],
   "source": [
    "L_D = 1.738\n",
    "q = calGrowthrate(L_D )\n",
    "print(f\"The growth rate given L_D={L_D }[mm]: {q} [mm/s]\" )"
   ]
  },
  {
   "cell_type": "markdown",
   "id": "60652948",
   "metadata": {},
   "source": [
    "## We now want to calculate the residence time $\\tau$ [s]"
   ]
  },
  {
   "cell_type": "markdown",
   "id": "e6699135",
   "metadata": {},
   "source": [
    "We know that the age of a product mean size cyystal is three times the overall residence time in a MSMPR [1].\n",
    "\n",
    "$$L_D = 3 \\cdot G \\cdot \\tau$$\n",
    "\n",
    "[1]: W. C. Saeman, “Crystal-size distribution in mixed suspensions,” AIChE Journal, vol. 2, no. 1, pp. 107–112, Mar. 1956, doi: https://doi.org/10.1002/aic.690020122.\n"
   ]
  },
  {
   "cell_type": "code",
   "execution_count": 1,
   "id": "61707e3a",
   "metadata": {},
   "outputs": [],
   "source": [
    "def calResidenceTime(L, G):\n",
    "    \"\"\"Return the residence time [s]\"\"\"\n",
    "    tau = L / G / 3;\n",
    "    return tau"
   ]
  },
  {
   "cell_type": "code",
   "execution_count": 78,
   "id": "5dcdf2f7",
   "metadata": {},
   "outputs": [
    {
     "name": "stdout",
     "output_type": "stream",
     "text": [
      "The residence time given L_D=1.738[mm] and G=0.8510[mm/s] is: 0.680750360720189 [s]\n"
     ]
    }
   ],
   "source": [
    "q = calResidenceTime(1.738, 0.8510217059898975)\n",
    "print(f\"The residence time given L_D=1.738[mm] and G=0.8510[mm/s] is: {q} [s]\")"
   ]
  }
 ],
 "metadata": {
  "kernelspec": {
   "display_name": "Python 3 (ipykernel)",
   "language": "python",
   "name": "python3"
  },
  "language_info": {
   "codemirror_mode": {
    "name": "ipython",
    "version": 3
   },
   "file_extension": ".py",
   "mimetype": "text/x-python",
   "name": "python",
   "nbconvert_exporter": "python",
   "pygments_lexer": "ipython3",
   "version": "3.9.12"
  }
 },
 "nbformat": 4,
 "nbformat_minor": 5
}
