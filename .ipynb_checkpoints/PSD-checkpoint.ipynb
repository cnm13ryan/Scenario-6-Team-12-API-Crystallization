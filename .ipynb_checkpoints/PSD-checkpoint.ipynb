{
 "cells": [
  {
   "cell_type": "code",
   "execution_count": 2,
   "id": "f11b8bfc",
   "metadata": {},
   "outputs": [],
   "source": [
    "import math\n",
    "import numpy as np\n",
    "import matplotlib.pyplot as plt\n",
    "import pandas as pd\n",
    "import scipy\n",
    "import sklearn"
   ]
  },
  {
   "cell_type": "code",
   "execution_count": 3,
   "id": "0eb89119",
   "metadata": {},
   "outputs": [],
   "source": [
    "df = pd.read_excel(\"Book24.xlsx\")"
   ]
  },
  {
   "cell_type": "code",
   "execution_count": 4,
   "id": "3dcd9bc7",
   "metadata": {},
   "outputs": [
    {
     "data": {
      "text/html": [
       "<div>\n",
       "<style scoped>\n",
       "    .dataframe tbody tr th:only-of-type {\n",
       "        vertical-align: middle;\n",
       "    }\n",
       "\n",
       "    .dataframe tbody tr th {\n",
       "        vertical-align: top;\n",
       "    }\n",
       "\n",
       "    .dataframe thead th {\n",
       "        text-align: right;\n",
       "    }\n",
       "</style>\n",
       "<table border=\"1\" class=\"dataframe\">\n",
       "  <thead>\n",
       "    <tr style=\"text-align: right;\">\n",
       "      <th></th>\n",
       "      <th>n of GROWTH RATE: 1.60 [mm/s]</th>\n",
       "      <th>n of GROWTH RATE: 1.50 [mm/s]</th>\n",
       "      <th>n of GROWTH RATE: 1.70 [mm/s]</th>\n",
       "      <th>n of GROWTH RATE: 1.40 [mm/s]</th>\n",
       "      <th>GROWTH RATE: 1.1 (mm/s)</th>\n",
       "      <th>GROWTH RATE: 1.05 (mm/s)</th>\n",
       "      <th>GROWTH RATE: 0.9 (mm/s)</th>\n",
       "      <th>GROWTH RATE: 0.93 (mm/s)</th>\n",
       "    </tr>\n",
       "  </thead>\n",
       "  <tbody>\n",
       "    <tr>\n",
       "      <th>0</th>\n",
       "      <td>0.000000e+00</td>\n",
       "      <td>7.230000e-43</td>\n",
       "      <td>0.000000e+00</td>\n",
       "      <td>3.634039e-29</td>\n",
       "      <td>2.111183e-27</td>\n",
       "      <td>0.000000e+00</td>\n",
       "      <td>1.272408e-22</td>\n",
       "      <td>1.682087e-30</td>\n",
       "    </tr>\n",
       "    <tr>\n",
       "      <th>1</th>\n",
       "      <td>6.967602e-12</td>\n",
       "      <td>4.891995e-10</td>\n",
       "      <td>3.314329e-11</td>\n",
       "      <td>3.185389e-11</td>\n",
       "      <td>8.939693e-11</td>\n",
       "      <td>1.110489e-11</td>\n",
       "      <td>4.988402e-08</td>\n",
       "      <td>1.503500e-10</td>\n",
       "    </tr>\n",
       "    <tr>\n",
       "      <th>2</th>\n",
       "      <td>4.730275e-09</td>\n",
       "      <td>5.882065e-10</td>\n",
       "      <td>2.490077e-11</td>\n",
       "      <td>6.686716e-11</td>\n",
       "      <td>9.867648e-10</td>\n",
       "      <td>8.873270e-11</td>\n",
       "      <td>7.972134e-08</td>\n",
       "      <td>1.536671e-09</td>\n",
       "    </tr>\n",
       "    <tr>\n",
       "      <th>3</th>\n",
       "      <td>1.658384e-09</td>\n",
       "      <td>1.219413e-09</td>\n",
       "      <td>1.960056e-10</td>\n",
       "      <td>4.298395e-10</td>\n",
       "      <td>1.007827e-09</td>\n",
       "      <td>3.506910e-09</td>\n",
       "      <td>2.433228e-07</td>\n",
       "      <td>7.890423e-09</td>\n",
       "    </tr>\n",
       "    <tr>\n",
       "      <th>4</th>\n",
       "      <td>1.568243e-08</td>\n",
       "      <td>1.236553e-08</td>\n",
       "      <td>4.357064e-09</td>\n",
       "      <td>8.811734e-09</td>\n",
       "      <td>1.520923e-08</td>\n",
       "      <td>1.525873e-08</td>\n",
       "      <td>2.099214e-07</td>\n",
       "      <td>4.821023e-08</td>\n",
       "    </tr>\n",
       "  </tbody>\n",
       "</table>\n",
       "</div>"
      ],
      "text/plain": [
       "   n of GROWTH RATE: 1.60 [mm/s]  n of GROWTH RATE: 1.50 [mm/s]  \\\n",
       "0                   0.000000e+00                   7.230000e-43   \n",
       "1                   6.967602e-12                   4.891995e-10   \n",
       "2                   4.730275e-09                   5.882065e-10   \n",
       "3                   1.658384e-09                   1.219413e-09   \n",
       "4                   1.568243e-08                   1.236553e-08   \n",
       "\n",
       "   n of GROWTH RATE: 1.70 [mm/s]  n of GROWTH RATE: 1.40 [mm/s]  \\\n",
       "0                   0.000000e+00                   3.634039e-29   \n",
       "1                   3.314329e-11                   3.185389e-11   \n",
       "2                   2.490077e-11                   6.686716e-11   \n",
       "3                   1.960056e-10                   4.298395e-10   \n",
       "4                   4.357064e-09                   8.811734e-09   \n",
       "\n",
       "   GROWTH RATE: 1.1 (mm/s)  GROWTH RATE: 1.05 (mm/s)   \\\n",
       "0             2.111183e-27               0.000000e+00   \n",
       "1             8.939693e-11               1.110489e-11   \n",
       "2             9.867648e-10               8.873270e-11   \n",
       "3             1.007827e-09               3.506910e-09   \n",
       "4             1.520923e-08               1.525873e-08   \n",
       "\n",
       "   GROWTH RATE: 0.9 (mm/s)  GROWTH RATE: 0.93 (mm/s)    \n",
       "0             1.272408e-22                1.682087e-30  \n",
       "1             4.988402e-08                1.503500e-10  \n",
       "2             7.972134e-08                1.536671e-09  \n",
       "3             2.433228e-07                7.890423e-09  \n",
       "4             2.099214e-07                4.821023e-08  "
      ]
     },
     "execution_count": 4,
     "metadata": {},
     "output_type": "execute_result"
    }
   ],
   "source": [
    "# Length index list\n",
    "id = np.arange(0, 10, 10/1001).tolist()\n",
    "df.head()"
   ]
  },
  {
   "cell_type": "code",
   "execution_count": 5,
   "id": "0ffaa5c5",
   "metadata": {},
   "outputs": [],
   "source": [
    "lst1 = df['n of GROWTH RATE: 1.40 [mm/s]']\n",
    "lst2 = df['n of GROWTH RATE: 1.50 [mm/s]']\n",
    "lst3 = df['n of GROWTH RATE: 1.60 [mm/s]']\n",
    "lst4 = df['n of GROWTH RATE: 1.70 [mm/s]']\n",
    "lst5 = df['GROWTH RATE: 1.1 (mm/s)']\n",
    "lst6 = df['GROWTH RATE: 1.05 (mm/s) ']\n",
    "lst7 = df['GROWTH RATE: 0.93 (mm/s)  ']\n",
    "lst8 = df['GROWTH RATE: 0.9 (mm/s)']\n",
    "\n"
   ]
  },
  {
   "cell_type": "code",
   "execution_count": 6,
   "id": "e6e6cffa",
   "metadata": {},
   "outputs": [],
   "source": [
    "m1 = [lst1.max(),\n",
    "      id[int(df[['n of GROWTH RATE: 1.40 [mm/s]']].idxmax())]]\n",
    "\n",
    "m2 = [lst2.max(),\n",
    "      id[int(df[['n of GROWTH RATE: 1.50 [mm/s]']].idxmax())]]\n",
    "\n",
    "m3 = [lst3.max(),\n",
    "      id[int(df[['n of GROWTH RATE: 1.60 [mm/s]']].idxmax())]]\n",
    "\n",
    "m4 = [lst4.max(),\n",
    "      id[int(df[['n of GROWTH RATE: 1.70 [mm/s]']].idxmax())]]\n",
    "\n",
    "m5 = [lst5.max(),\n",
    "      id[int(df[['GROWTH RATE: 1.1 (mm/s)']].idxmax())]]\n",
    "\n",
    "m6 = [lst6.max(),\n",
    "      id[int(df[['GROWTH RATE: 1.05 (mm/s) ']].idxmax())]]\n",
    "\n",
    "m7 = [lst7.max(),\n",
    "      id[int(df[['GROWTH RATE: 0.93 (mm/s)  ']].idxmax())]]\n",
    "\n",
    "m8 = [lst8.max(),\n",
    "      id[int(df[['GROWTH RATE: 0.9 (mm/s)']].idxmax())]]\n"
   ]
  },
  {
   "cell_type": "code",
   "execution_count": 7,
   "id": "d985958f",
   "metadata": {},
   "outputs": [
    {
     "name": "stdout",
     "output_type": "stream",
     "text": [
      "The maximum n for G=1.40 [mm/s] is 2.79691 [#crystals/L/V] with length 1.9580419580419581 [mm]\n",
      "The maximum n for G=1.50 [mm/s] is 2.6105082 [#crystals/L/V] with length 1.998001998001998 [mm]\n",
      "The maximum n for G=1.60 [mm/s] is 2.447395 [#crystals/L/V] with length 2.037962037962038 [mm]\n",
      "The maximum n for G=1.70 [mm/s] is 2.3034666 [#crystals/L/V] with length 2.0779220779220777 [mm]\n",
      "The maximum n for G=1.10 [mm/s] is 3.5593746 [#crystals/L/V] with length 1.838161838161838 [mm]\n",
      "The maximum n for G=1.05 [mm/s] is 3.7288046 [#crystals/L/V] with length 1.8181818181818181 [mm]\n",
      "The maximum n for G=0.93 [mm/s] is 4.209736 [#crystals/L/V] with length 1.7682317682317683 [mm]\n",
      "The maximum n for G=0.90 [mm/s] is 4.3499937 [#crystals/L/V] with length 1.7582417582417582 [mm]\n"
     ]
    }
   ],
   "source": [
    "print(f\"The maximum n for G=1.40 [mm/s] is {m1[0]} \\\n",
    "[#crystals/L/V] with length {m1[1]} [mm]\")\n",
    "\n",
    "print(f\"The maximum n for G=1.50 [mm/s] is {m2[0]} \\\n",
    "[#crystals/L/V] with length {m2[1]} [mm]\")\n",
    "\n",
    "print(f\"The maximum n for G=1.60 [mm/s] is {m3[0]} \\\n",
    "[#crystals/L/V] with length {m3[1]} [mm]\")\n",
    "\n",
    "print(f\"The maximum n for G=1.70 [mm/s] is {m4[0]} \\\n",
    "[#crystals/L/V] with length {m4[1]} [mm]\")\n",
    "\n",
    "print(f\"The maximum n for G=1.10 [mm/s] is {m5[0]} \\\n",
    "[#crystals/L/V] with length {m5[1]} [mm]\")\n",
    "\n",
    "print(f\"The maximum n for G=1.05 [mm/s] is {m6[0]} \\\n",
    "[#crystals/L/V] with length {m6[1]} [mm]\")\n",
    "\n",
    "print(f\"The maximum n for G=0.93 [mm/s] is {m7[0]} \\\n",
    "[#crystals/L/V] with length {m7[1]} [mm]\")\n",
    "\n",
    "print(f\"The maximum n for G=0.90 [mm/s] is {m8[0]} \\\n",
    "[#crystals/L/V] with length {m8[1]} [mm]\")"
   ]
  },
  {
   "cell_type": "code",
   "execution_count": 8,
   "id": "aa64e456",
   "metadata": {},
   "outputs": [],
   "source": [
    "Crystal_size = [m1[0], m2[0], m3[0], m4[0], m5[0], m6[0], m7[0], m8[0]]\n",
    "Length = [m1[1], m2[1], m3[1], m4[1], m5[1], m6[1], m7[1], m8[1]]\n",
    "growrate = [1.4, 1.5, 1.6, 1.7, 1.1, 1.05, 0.93, 0.90]"
   ]
  },
  {
   "cell_type": "code",
   "execution_count": 24,
   "id": "ea893622",
   "metadata": {},
   "outputs": [
    {
     "data": {
      "image/png": "[encoded data removed]",
      "text/plain": [
       "<Figure size 720x504 with 1 Axes>"
      ]
     },
     "metadata": {
      "needs_background": "light"
     },
     "output_type": "display_data"
    },
    {
     "name": "stdout",
     "output_type": "stream",
     "text": [
      "\n"
     ]
    }
   ],
   "source": [
    "(fig, ax1) = plt.subplots(1, figsize=(10, 7))\n",
    "\n",
    "#ax1.scatter(Length, Crystal_size) \n",
    "ax1.scatter(Length, growrate)\n",
    "ax1.set_xlabel(r'Characteristic nuclei length [mm]',fontsize=16)\n",
    "ax1.set_ylabel(r'Growth rate [mm/s]',fontsize=16)\n",
    "#ax1.set_ylabel(r'n $[\\dfrac{1}{L \\cdot V}]$',fontsize=16)\n",
    "ax1.tick_params(axis='y', labelsize=14)\n",
    "ax1.tick_params(axis='x', labelsize=14)\n",
    "#ax1.legend(loc='upper right',fontsize=12)\n",
    "ax1.grid(True)\n",
    "\n",
    "#plt.title('Distribution of n over characteristic nuclei length', fontsize=15)\n",
    "plt.title('Distribution of grow rate over characteristic nuclei length', fontsize=15)\n",
    "\n",
    "fig.tight_layout()  # otherwise the right y-label is slightly clipped\n",
    "plt.show()\n",
    "print('')"
   ]
  },
  {
   "cell_type": "code",
   "execution_count": 55,
   "id": "e2df87df",
   "metadata": {
    "scrolled": true
   },
   "outputs": [
    {
     "name": "stdout",
     "output_type": "stream",
     "text": [
      "alpha: -3.487497477645276, beta: 2.496271106809651\n",
      "\n",
      "The equation of the growth rate versus characteristic length: G = -3.487497477645276 + 2.496271106809651 * L\n"
     ]
    }
   ],
   "source": [
    "# Growth rate model 1\n",
    "fit_conv1 = scipy.optimize.curve_fit(lambda t, a, b: a+b*t, Length, growrate)\n",
    "#print(fit_conv)\n",
    "m_conv1 = np.array([(fit_conv1[0][0] + fit_conv1[0][1] * i) for i in Length])\n",
    "alpha = fit_conv1[0][0]\n",
    "beta = fit_conv1[0][1]\n",
    "print(f\"alpha: {alpha }, beta: {beta}\\n\");\n",
    "print(f\"The equation of the growth rate versus characteristic length: G = {alpha} + {beta} * L\")"
   ]
  },
  {
   "cell_type": "code",
   "execution_count": 56,
   "id": "fd5f84c1",
   "metadata": {},
   "outputs": [
    {
     "data": {
      "image/png": "[encoded data removed]",
      "text/plain": [
       "<Figure size 720x504 with 1 Axes>"
      ]
     },
     "metadata": {
      "needs_background": "light"
     },
     "output_type": "display_data"
    }
   ],
   "source": [
    "size = 30\n",
    "cdict = {1: 'blue', 2: 'orange'}\n",
    "\n",
    "fig, ax = plt.subplots(1, figsize=(10, 7))\n",
    "\n",
    "sc1 = ax.scatter(Length,growrate,s=size,c=cdict[1], label='model 1',vmin=0,vmax=100)\n",
    "#sc2 = ax.scatter(Length,growrate,s=size,c=cdict[2], label='model 2', vmin=0,vmax=100)\n",
    "     \n",
    "ax.set_xlabel(r'Characteristic nuclei length [mm]',fontsize=16)\n",
    "ax.set_ylabel(r'Growth rate [mm/s]',fontsize=16)\n",
    "ax.set_title('Distribution of grow rate over characteristic nuclei length', fontsize=15)\n",
    "\n",
    "ax.legend(loc='center right', bbox_to_anchor=(1, 0.8), fancybox=True, ncol=1)\n",
    "\n",
    "plt.plot(Length, m_conv1, 'r')\n",
    "#plt.plot(Length, m_conv2, 'g')\n",
    "ax.grid(True)\n",
    "fig.tight_layout()\n",
    "plt.show()"
   ]
  },
  {
   "cell_type": "code",
   "execution_count": 57,
   "id": "fcfc4cae",
   "metadata": {},
   "outputs": [],
   "source": [
    "# The Growth rate function with respect to characterisitic nuclei length\n",
    "def calGrowthrate(L=1.738, alpha=-3.487497477645276, beta=2.496271106809651):\n",
    "    \"\"\"Return the Growth rate wrt the dominant particle size\"\"\"\n",
    "    G = alpha + beta * L;\n",
    "    return G\n"
   ]
  },
  {
   "cell_type": "code",
   "execution_count": 58,
   "id": "496377ab",
   "metadata": {},
   "outputs": [
    {
     "data": {
      "text/plain": [
       "0.8510217059898975"
      ]
     },
     "execution_count": 58,
     "metadata": {},
     "output_type": "execute_result"
    }
   ],
   "source": [
    "calGrowthrate()"
   ]
  },
  {
   "cell_type": "code",
   "execution_count": 61,
   "id": "8e161a07",
   "metadata": {},
   "outputs": [],
   "source": [
    "# Residence Time [s]\n",
    "\n",
    "def calResidenceTime(L=1.738, G=0.8510217059898975):\n",
    "    \"\"\"Return the residence time [s]\"\"\"\n",
    "    tau = L / G / 3;\n",
    "    return tau"
   ]
  },
  {
   "cell_type": "code",
   "execution_count": 62,
   "id": "5dcdf2f7",
   "metadata": {},
   "outputs": [
    {
     "data": {
      "text/plain": [
       "0.680750360720189"
      ]
     },
     "execution_count": 62,
     "metadata": {},
     "output_type": "execute_result"
    }
   ],
   "source": [
    "calResidenceTime()"
   ]
  },
  {
   "cell_type": "code",
   "execution_count": null,
   "id": "eb16e1ea",
   "metadata": {},
   "outputs": [],
   "source": []
  },
  {
   "cell_type": "code",
   "execution_count": null,
   "id": "9ea3aa24",
   "metadata": {},
   "outputs": [],
   "source": []
  },
  {
   "cell_type": "code",
   "execution_count": null,
   "id": "c5c33af5",
   "metadata": {},
   "outputs": [],
   "source": []
  }
 ],
 "metadata": {
  "kernelspec": {
   "display_name": "Python 3 (ipykernel)",
   "language": "python",
   "name": "python3"
  },
  "language_info": {
   "codemirror_mode": {
    "name": "ipython",
    "version": 3
   },
   "file_extension": ".py",
   "mimetype": "text/x-python",
   "name": "python",
   "nbconvert_exporter": "python",
   "pygments_lexer": "ipython3",
   "version": "3.9.12"
  }
 },
 "nbformat": 4,
 "nbformat_minor": 5
}
